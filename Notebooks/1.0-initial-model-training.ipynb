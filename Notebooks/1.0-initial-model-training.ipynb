{
 "cells": [
  {
   "attachments": {},
   "cell_type": "markdown",
   "metadata": {},
   "source": [
    "* Problem Statement : Wild fires are huge loss of environment and economy, this disasture had a huge impact on humans and animals. If the wild chances of wild fires are predicted then some steps can be taken in order to stop wild fires from causing much heavy loss.\n",
    "* Aim : Aim is based on the physical factors (Rain, Temp, RH) predict whether there any chance of wild fire or not."
   ]
  },
  {
   "cell_type": "code",
   "execution_count": 2,
   "metadata": {},
   "outputs": [],
   "source": [
    "from data.interim import data\n",
    "import pandas as pd\n",
    "import numpy as np"
   ]
  },
  {
   "cell_type": "code",
   "execution_count": 3,
   "metadata": {},
   "outputs": [
    {
     "data": {
      "text/html": [
       "<div>\n",
       "<style scoped>\n",
       "    .dataframe tbody tr th:only-of-type {\n",
       "        vertical-align: middle;\n",
       "    }\n",
       "\n",
       "    .dataframe tbody tr th {\n",
       "        vertical-align: top;\n",
       "    }\n",
       "\n",
       "    .dataframe thead th {\n",
       "        text-align: right;\n",
       "    }\n",
       "</style>\n",
       "<table border=\"1\" class=\"dataframe\">\n",
       "  <thead>\n",
       "    <tr style=\"text-align: right;\">\n",
       "      <th></th>\n",
       "      <th>day</th>\n",
       "      <th>month</th>\n",
       "      <th>year</th>\n",
       "      <th>Temperature</th>\n",
       "      <th>RH</th>\n",
       "      <th>Ws</th>\n",
       "      <th>Rain</th>\n",
       "      <th>FFMC</th>\n",
       "      <th>DMC</th>\n",
       "      <th>DC</th>\n",
       "      <th>ISI</th>\n",
       "      <th>BUI</th>\n",
       "      <th>FWI</th>\n",
       "      <th>Classes</th>\n",
       "    </tr>\n",
       "  </thead>\n",
       "  <tbody>\n",
       "    <tr>\n",
       "      <th>0</th>\n",
       "      <td>1</td>\n",
       "      <td>6</td>\n",
       "      <td>2012</td>\n",
       "      <td>29</td>\n",
       "      <td>57</td>\n",
       "      <td>18</td>\n",
       "      <td>0.0</td>\n",
       "      <td>65.7</td>\n",
       "      <td>3.4</td>\n",
       "      <td>7.6</td>\n",
       "      <td>1.3</td>\n",
       "      <td>3.4</td>\n",
       "      <td>0.5</td>\n",
       "      <td>not fire</td>\n",
       "    </tr>\n",
       "    <tr>\n",
       "      <th>1</th>\n",
       "      <td>2</td>\n",
       "      <td>6</td>\n",
       "      <td>2012</td>\n",
       "      <td>29</td>\n",
       "      <td>61</td>\n",
       "      <td>13</td>\n",
       "      <td>1.3</td>\n",
       "      <td>64.4</td>\n",
       "      <td>4.1</td>\n",
       "      <td>7.6</td>\n",
       "      <td>1.0</td>\n",
       "      <td>3.9</td>\n",
       "      <td>0.4</td>\n",
       "      <td>not fire</td>\n",
       "    </tr>\n",
       "    <tr>\n",
       "      <th>2</th>\n",
       "      <td>3</td>\n",
       "      <td>6</td>\n",
       "      <td>2012</td>\n",
       "      <td>26</td>\n",
       "      <td>82</td>\n",
       "      <td>22</td>\n",
       "      <td>13.1</td>\n",
       "      <td>47.1</td>\n",
       "      <td>2.5</td>\n",
       "      <td>7.1</td>\n",
       "      <td>0.3</td>\n",
       "      <td>2.7</td>\n",
       "      <td>0.1</td>\n",
       "      <td>not fire</td>\n",
       "    </tr>\n",
       "    <tr>\n",
       "      <th>3</th>\n",
       "      <td>4</td>\n",
       "      <td>6</td>\n",
       "      <td>2012</td>\n",
       "      <td>25</td>\n",
       "      <td>89</td>\n",
       "      <td>13</td>\n",
       "      <td>2.5</td>\n",
       "      <td>28.6</td>\n",
       "      <td>1.3</td>\n",
       "      <td>6.9</td>\n",
       "      <td>0.0</td>\n",
       "      <td>1.7</td>\n",
       "      <td>0.0</td>\n",
       "      <td>not fire</td>\n",
       "    </tr>\n",
       "    <tr>\n",
       "      <th>4</th>\n",
       "      <td>5</td>\n",
       "      <td>6</td>\n",
       "      <td>2012</td>\n",
       "      <td>27</td>\n",
       "      <td>77</td>\n",
       "      <td>16</td>\n",
       "      <td>0.0</td>\n",
       "      <td>64.8</td>\n",
       "      <td>3.0</td>\n",
       "      <td>14.2</td>\n",
       "      <td>1.2</td>\n",
       "      <td>3.9</td>\n",
       "      <td>0.5</td>\n",
       "      <td>not fire</td>\n",
       "    </tr>\n",
       "  </tbody>\n",
       "</table>\n",
       "</div>"
      ],
      "text/plain": [
       "   day  month  year  Temperature  RH  Ws  ...  DMC    DC  ISI  BUI  FWI   Classes\n",
       "0    1      6  2012           29  57  18  ...  3.4   7.6  1.3  3.4  0.5  not fire\n",
       "1    2      6  2012           29  61  13  ...  4.1   7.6  1.0  3.9  0.4  not fire\n",
       "2    3      6  2012           26  82  22  ...  2.5   7.1  0.3  2.7  0.1  not fire\n",
       "3    4      6  2012           25  89  13  ...  1.3   6.9  0.0  1.7  0.0  not fire\n",
       "4    5      6  2012           27  77  16  ...  3.0  14.2  1.2  3.9  0.5  not fire\n",
       "\n",
       "[5 rows x 14 columns]"
      ]
     },
     "execution_count": 3,
     "metadata": {},
     "output_type": "execute_result"
    }
   ],
   "source": [
    "data.head()"
   ]
  },
  {
   "attachments": {},
   "cell_type": "markdown",
   "metadata": {},
   "source": [
    "Changing the values in Classes to numeric"
   ]
  },
  {
   "cell_type": "code",
   "execution_count": 5,
   "metadata": {},
   "outputs": [],
   "source": [
    "data.Classes = data.Classes.map({'not fire':1, 'fire':0})"
   ]
  },
  {
   "cell_type": "code",
   "execution_count": 4,
   "metadata": {},
   "outputs": [
    {
     "data": {
      "text/html": [
       "<div>\n",
       "<style scoped>\n",
       "    .dataframe tbody tr th:only-of-type {\n",
       "        vertical-align: middle;\n",
       "    }\n",
       "\n",
       "    .dataframe tbody tr th {\n",
       "        vertical-align: top;\n",
       "    }\n",
       "\n",
       "    .dataframe thead th {\n",
       "        text-align: right;\n",
       "    }\n",
       "</style>\n",
       "<table border=\"1\" class=\"dataframe\">\n",
       "  <thead>\n",
       "    <tr style=\"text-align: right;\">\n",
       "      <th></th>\n",
       "      <th>day</th>\n",
       "      <th>month</th>\n",
       "      <th>year</th>\n",
       "      <th>Temperature</th>\n",
       "      <th>RH</th>\n",
       "      <th>Ws</th>\n",
       "      <th>Rain</th>\n",
       "      <th>FFMC</th>\n",
       "      <th>DMC</th>\n",
       "      <th>DC</th>\n",
       "      <th>ISI</th>\n",
       "      <th>BUI</th>\n",
       "      <th>FWI</th>\n",
       "      <th>Classes</th>\n",
       "    </tr>\n",
       "  </thead>\n",
       "  <tbody>\n",
       "    <tr>\n",
       "      <th>0</th>\n",
       "      <td>1</td>\n",
       "      <td>6</td>\n",
       "      <td>2012</td>\n",
       "      <td>29</td>\n",
       "      <td>57</td>\n",
       "      <td>18</td>\n",
       "      <td>0.0</td>\n",
       "      <td>65.7</td>\n",
       "      <td>3.4</td>\n",
       "      <td>7.6</td>\n",
       "      <td>1.3</td>\n",
       "      <td>3.4</td>\n",
       "      <td>0.5</td>\n",
       "      <td>not fire</td>\n",
       "    </tr>\n",
       "    <tr>\n",
       "      <th>1</th>\n",
       "      <td>2</td>\n",
       "      <td>6</td>\n",
       "      <td>2012</td>\n",
       "      <td>29</td>\n",
       "      <td>61</td>\n",
       "      <td>13</td>\n",
       "      <td>1.3</td>\n",
       "      <td>64.4</td>\n",
       "      <td>4.1</td>\n",
       "      <td>7.6</td>\n",
       "      <td>1.0</td>\n",
       "      <td>3.9</td>\n",
       "      <td>0.4</td>\n",
       "      <td>not fire</td>\n",
       "    </tr>\n",
       "    <tr>\n",
       "      <th>2</th>\n",
       "      <td>3</td>\n",
       "      <td>6</td>\n",
       "      <td>2012</td>\n",
       "      <td>26</td>\n",
       "      <td>82</td>\n",
       "      <td>22</td>\n",
       "      <td>13.1</td>\n",
       "      <td>47.1</td>\n",
       "      <td>2.5</td>\n",
       "      <td>7.1</td>\n",
       "      <td>0.3</td>\n",
       "      <td>2.7</td>\n",
       "      <td>0.1</td>\n",
       "      <td>not fire</td>\n",
       "    </tr>\n",
       "    <tr>\n",
       "      <th>3</th>\n",
       "      <td>4</td>\n",
       "      <td>6</td>\n",
       "      <td>2012</td>\n",
       "      <td>25</td>\n",
       "      <td>89</td>\n",
       "      <td>13</td>\n",
       "      <td>2.5</td>\n",
       "      <td>28.6</td>\n",
       "      <td>1.3</td>\n",
       "      <td>6.9</td>\n",
       "      <td>0.0</td>\n",
       "      <td>1.7</td>\n",
       "      <td>0.0</td>\n",
       "      <td>not fire</td>\n",
       "    </tr>\n",
       "    <tr>\n",
       "      <th>4</th>\n",
       "      <td>5</td>\n",
       "      <td>6</td>\n",
       "      <td>2012</td>\n",
       "      <td>27</td>\n",
       "      <td>77</td>\n",
       "      <td>16</td>\n",
       "      <td>0.0</td>\n",
       "      <td>64.8</td>\n",
       "      <td>3.0</td>\n",
       "      <td>14.2</td>\n",
       "      <td>1.2</td>\n",
       "      <td>3.9</td>\n",
       "      <td>0.5</td>\n",
       "      <td>not fire</td>\n",
       "    </tr>\n",
       "  </tbody>\n",
       "</table>\n",
       "</div>"
      ],
      "text/plain": [
       "   day  month  year  Temperature  RH  Ws  ...  DMC    DC  ISI  BUI  FWI   Classes\n",
       "0    1      6  2012           29  57  18  ...  3.4   7.6  1.3  3.4  0.5  not fire\n",
       "1    2      6  2012           29  61  13  ...  4.1   7.6  1.0  3.9  0.4  not fire\n",
       "2    3      6  2012           26  82  22  ...  2.5   7.1  0.3  2.7  0.1  not fire\n",
       "3    4      6  2012           25  89  13  ...  1.3   6.9  0.0  1.7  0.0  not fire\n",
       "4    5      6  2012           27  77  16  ...  3.0  14.2  1.2  3.9  0.5  not fire\n",
       "\n",
       "[5 rows x 14 columns]"
      ]
     },
     "execution_count": 4,
     "metadata": {},
     "output_type": "execute_result"
    }
   ],
   "source": [
    "data.head()"
   ]
  },
  {
   "cell_type": "code",
   "execution_count": 5,
   "metadata": {},
   "outputs": [],
   "source": [
    "from sklearn.preprocessing import StandardScaler\n",
    "from sklearn.impute import SimpleImputer\n",
    "from sklearn.pipeline import Pipeline"
   ]
  },
  {
   "attachments": {},
   "cell_type": "markdown",
   "metadata": {},
   "source": [
    "Droping the Year column as it is same in whole dataset."
   ]
  },
  {
   "cell_type": "code",
   "execution_count": 6,
   "metadata": {},
   "outputs": [],
   "source": [
    "data.drop(columns=['year'], inplace=True)"
   ]
  },
  {
   "cell_type": "code",
   "execution_count": 8,
   "metadata": {},
   "outputs": [
    {
     "name": "stdout",
     "output_type": "stream",
     "text": [
      "<class 'pandas.core.frame.DataFrame'>\n",
      "RangeIndex: 244 entries, 0 to 243\n",
      "Data columns (total 13 columns):\n",
      " #   Column       Non-Null Count  Dtype  \n",
      "---  ------       --------------  -----  \n",
      " 0   day          244 non-null    int64  \n",
      " 1   month        244 non-null    int64  \n",
      " 2   Temperature  244 non-null    int64  \n",
      " 3   RH           244 non-null    int64  \n",
      " 4   Ws           244 non-null    int64  \n",
      " 5   Rain         244 non-null    float64\n",
      " 6   FFMC         244 non-null    float64\n",
      " 7   DMC          244 non-null    float64\n",
      " 8   DC           244 non-null    float64\n",
      " 9   ISI          244 non-null    float64\n",
      " 10  BUI          244 non-null    float64\n",
      " 11  FWI          244 non-null    float64\n",
      " 12  Classes      244 non-null    int64  \n",
      "dtypes: float64(7), int64(6)\n",
      "memory usage: 24.9 KB\n"
     ]
    }
   ],
   "source": [
    "data.info()"
   ]
  },
  {
   "cell_type": "code",
   "execution_count": 7,
   "metadata": {},
   "outputs": [],
   "source": [
    "feature, target = data.drop(columns=['Classes']), data.Classes"
   ]
  },
  {
   "cell_type": "code",
   "execution_count": 8,
   "metadata": {},
   "outputs": [],
   "source": [
    "nums_pipe = Pipeline(\n",
    "    steps = (\n",
    "        ('impute', SimpleImputer(strategy='median')),\n",
    "        ('scaler', StandardScaler())\n",
    ")\n",
    ")"
   ]
  },
  {
   "cell_type": "code",
   "execution_count": 9,
   "metadata": {},
   "outputs": [],
   "source": [
    "from sklearn.model_selection import train_test_split\n",
    "X_train, X_test, y_train, y_test = train_test_split(feature, target, random_state=7, test_size=0.25)"
   ]
  },
  {
   "cell_type": "code",
   "execution_count": 10,
   "metadata": {},
   "outputs": [],
   "source": [
    "nums_pipe.fit(X_train)\n",
    "X_train = nums_pipe.transform(X_train)\n",
    "X_test = nums_pipe.transform(X_test)"
   ]
  },
  {
   "cell_type": "code",
   "execution_count": 11,
   "metadata": {},
   "outputs": [
    {
     "data": {
      "text/plain": [
       "array([[ 5.12675497e-01,  4.56700835e-01,  7.88045485e-01,\n",
       "         4.14659520e-01,  1.29861023e+00, -3.89022181e-01,\n",
       "         7.57554416e-01,  1.02870916e+00,  1.93291008e+00,\n",
       "         9.88718107e-01,  1.44275235e+00,  1.42186877e+00],\n",
       "       [-8.67024738e-01, -1.36017423e+00, -1.19133935e+00,\n",
       "        -7.15932739e-01,  5.74080743e-01,  2.51008088e-01,\n",
       "        -4.48007251e-01, -5.75175649e-01, -8.89301620e-01,\n",
       "        -7.48985509e-01, -6.69128786e-01, -8.27189500e-01],\n",
       "       [-1.32692482e+00, -1.36017423e+00, -2.03964714e+00,\n",
       "         1.81127349e+00, -8.74978237e-01,  8.41805259e-01,\n",
       "        -3.50114567e+00, -1.13917910e+00, -9.00755401e-01,\n",
       "        -1.10604790e+00, -1.10075413e+00, -9.39642413e-01],\n",
       "       [-1.55687486e+00,  4.56700835e-01,  2.20189180e+00,\n",
       "        -1.84652500e+00, -5.12713492e-01, -3.89022181e-01,\n",
       "         1.11422947e+00, -3.01986478e-01, -5.68595745e-01,\n",
       "         2.17892606e+00, -4.14778139e-01,  9.58000505e-01],\n",
       "       [ 1.20252562e+00, -4.51736696e-01,  7.88045485e-01,\n",
       "        -2.50394750e-01, -1.96177247e+00, -2.90555986e-01,\n",
       "         4.42043176e-02, -3.01986478e-01, -6.07538601e-01,\n",
       "        -7.25181350e-01, -4.07070543e-01, -7.99076271e-01],\n",
       "       [ 9.72575576e-01, -1.36017423e+00,  7.88045485e-01,\n",
       "         4.14659520e-01,  2.11815998e-01, -3.89022181e-01,\n",
       "         5.43549387e-01, -3.72486909e-01, -6.69389020e-01,\n",
       "         6.03559007e-02, -4.68731306e-01, -1.94641860e-01],\n",
       "       [-1.44189984e+00,  1.36513837e+00, -2.03964714e+00,\n",
       "         1.07971379e+00, -1.50448747e-01,  1.48183553e+00,\n",
       "        -2.50245554e+00, -1.14799165e+00, -8.87010864e-01,\n",
       "        -1.08224374e+00, -1.10075413e+00, -9.39642413e-01],\n",
       "       [ 1.43247565e+00,  4.56700835e-01,  5.05276223e-01,\n",
       "         1.48637812e-01,  2.11815998e-01, -3.89022181e-01,\n",
       "         8.36022927e-01,  3.17015976e+00,  3.76093357e+00,\n",
       "         6.31655720e-01,  3.61629425e+00,  1.85762381e+00],\n",
       "       [ 1.54745067e+00,  1.36513837e+00, -1.75687788e+00,\n",
       "         1.21272464e+00,  2.11815998e-01,  4.97173576e-01,\n",
       "        -2.16004749e+00, -9.98178236e-01, -8.82429351e-01,\n",
       "        -1.03463542e+00, -1.00055539e+00, -9.25585799e-01],\n",
       "       [ 6.27650517e-01, -4.51736696e-01,  2.22506960e-01,\n",
       "         5.47670374e-01,  5.74080743e-01, -3.89022181e-01,\n",
       "         5.50682888e-01,  3.76580172e-01,  5.79073138e-01,\n",
       "         1.31768378e-01,  4.94718117e-01,  2.97339637e-01],\n",
       "       [-1.32692482e+00,  1.36513837e+00, -9.08570089e-01,\n",
       "         7.47186656e-01,  5.74080743e-01, -3.39789084e-01,\n",
       "        -6.62012280e-01, -1.08630377e+00, -6.99168851e-01,\n",
       "        -7.72789669e-01, -1.00826298e+00, -8.69359342e-01],\n",
       "       [ 7.42625537e-01,  4.56700835e-01,  1.07081475e+00,\n",
       "        -4.49911031e-01,  9.36345488e-01, -3.89022181e-01,\n",
       "         8.14622424e-01,  1.69846326e+00,  2.40709663e+00,\n",
       "         1.25056386e+00,  2.09019036e+00,  1.92790689e+00],\n",
       "       [ 1.08755060e+00, -1.36017423e+00, -3.43031564e-01,\n",
       "         1.48637812e-01, -1.50448747e-01, -3.89022181e-01,\n",
       "         6.43418401e-01, -2.35964558e-03,  4.02684907e-01,\n",
       "         2.50789174e-01,  1.78706706e-01,  2.41113180e-01],\n",
       "       [ 1.54745067e+00, -4.51736696e-01,  5.05276223e-01,\n",
       "        -1.83889323e-01,  2.11815998e-01, -3.89022181e-01,\n",
       "         7.43287414e-01,  4.64705711e-01,  2.24193686e-02,\n",
       "         6.55459879e-01,  2.71197851e-01,  5.92528536e-01],\n",
       "       [ 6.27650517e-01,  4.56700835e-01,  1.07081475e+00,\n",
       "        -2.50394750e-01,  1.29861023e+00, -3.89022181e-01,\n",
       "         7.78954919e-01,  1.35477365e+00,  2.17343949e+00,\n",
       "         1.08393474e+00,  1.75876376e+00,  1.64677460e+00],\n",
       "       [ 8.57600556e-01, -1.36017423e+00, -6.02623018e-02,\n",
       "         1.56269583e-02,  9.36345488e-01, -3.39789084e-01,\n",
       "         2.65342848e-01, -5.31112879e-01,  3.38731498e-02,\n",
       "        -3.20510645e-01, -3.45409780e-01, -4.05491073e-01],\n",
       "       [-2.92149640e-01, -4.51736696e-01,  1.91912253e+00,\n",
       "        -1.11496530e+00, -8.74978237e-01, -9.36235955e-02,\n",
       "         5.36415886e-01, -2.57923709e-01, -8.20578932e-01,\n",
       "        -1.06273213e-01, -3.91655353e-01, -2.78981545e-01],\n",
       "       [ 1.54745067e+00,  1.36513837e+00, -2.32241640e+00,\n",
       "        -5.16416458e-01,  9.36345488e-01, -3.39789084e-01,\n",
       "         1.44073331e-01, -8.74802481e-01, -7.10622632e-01,\n",
       "        -7.01377191e-01, -8.38695885e-01, -8.41246114e-01],\n",
       "       [-4.07124660e-01, -1.36017423e+00, -1.75687788e+00,\n",
       "         1.27923007e+00,  1.29861023e+00, -3.89022181e-01,\n",
       "         4.50813874e-01, -3.76098612e-02,  3.47706756e-01,\n",
       "         3.65517416e-02,  1.32461134e-01,  5.83771956e-02],\n",
       "       [ 1.66242569e+00,  1.36513837e+00, -2.03964714e+00,\n",
       "         1.07971379e+00, -5.12713492e-01,  3.00241185e-01,\n",
       "        -2.33125151e+00, -1.08630377e+00, -8.87010864e-01,\n",
       "        -1.05843958e+00, -1.04680096e+00, -9.25585799e-01],\n",
       "       [-1.44189984e+00, -1.36017423e+00, -1.75687788e+00,\n",
       "         1.34573550e+00,  2.38540447e+00,  6.06051361e+00,\n",
       "        -2.18144799e+00, -1.03342845e+00, -8.96173889e-01,\n",
       "        -1.03463542e+00, -1.02367817e+00, -9.25585799e-01],\n",
       "       [-1.21194980e+00, -1.36017423e+00, -6.02623018e-02,\n",
       "        -1.17383896e-01, -5.12713492e-01, -2.90555986e-01,\n",
       "        -4.13976943e-02, -7.24989065e-01, -6.55644482e-01,\n",
       "        -6.77573032e-01, -7.30789550e-01, -8.13132886e-01],\n",
       "       [-6.37074699e-01, -4.51736696e-01,  5.05276223e-01,\n",
       "        -7.15932739e-01,  2.11815998e-01,  1.48183553e+00,\n",
       "        -1.28636903e-02, -5.48737987e-01, -8.41195739e-01,\n",
       "        -6.29964714e-01, -6.38298405e-01, -7.56906429e-01],\n",
       "       [-2.92149640e-01,  1.36513837e+00, -9.08570089e-01,\n",
       "        -8.48943593e-01,  1.29861023e+00, -3.89022181e-01,\n",
       "         7.78954919e-01, -2.40298601e-01, -2.93704994e-01,\n",
       "         1.06013058e+00, -2.76041422e-01,  5.08188850e-01],\n",
       "       [-7.52049718e-01, -4.51736696e-01,  1.07081475e+00,\n",
       "        -1.24797616e+00, -1.50448747e-01,  5.46406674e-01,\n",
       "         3.29544357e-01, -4.25362233e-01, -8.32032714e-01,\n",
       "        -3.44314804e-01, -5.38099665e-01, -5.03887373e-01],\n",
       "       [ 1.77740071e+00, -4.51736696e-01,  7.88045485e-01,\n",
       "         1.48637812e-01,  5.74080743e-01, -3.89022181e-01,\n",
       "         6.79085906e-01,  1.55746239e+00,  2.27881428e+00,\n",
       "         5.12634924e-01,  1.94374605e+00,  1.26724602e+00],\n",
       "       [ 9.72575576e-01,  4.56700835e-01,  5.05276223e-01,\n",
       "         1.48637812e-01, -5.12713492e-01, -3.89022181e-01,\n",
       "         8.00355422e-01,  2.31534203e+00,  2.86524788e+00,\n",
       "         1.03632642e+00,  2.69138280e+00,  1.99818996e+00],\n",
       "       [ 1.08755060e+00,  4.56700835e-01,  5.05276223e-01,\n",
       "        -1.44749244e+00,  9.36345488e-01, -3.89022181e-01,\n",
       "         1.02862745e+00,  3.70772555e+00,  2.54912352e+00,\n",
       "         2.29794686e+00,  3.35423601e+00,  3.43196461e+00],\n",
       "       [-1.67184988e+00, -1.36017423e+00, -6.02623018e-02,\n",
       "         6.14175801e-01, -1.23724298e+00, -4.43904978e-02,\n",
       "        -1.46809789e+00, -1.03342845e+00, -8.70975570e-01,\n",
       "        -9.63222942e-01, -1.01597058e+00, -9.11529185e-01],\n",
       "       [ 2.82725458e-01,  1.36513837e+00, -6.02623018e-02,\n",
       "        -8.48943593e-01, -1.59950773e+00, -3.89022181e-01,\n",
       "         8.36022927e-01, -3.90112017e-01, -3.00577263e-01,\n",
       "         5.12634924e-01, -3.60824971e-01,  1.42716881e-01],\n",
       "       [ 2.82725458e-01,  4.56700835e-01,  1.07081475e+00,\n",
       "        -5.16416458e-01,  9.36345488e-01, -3.89022181e-01,\n",
       "         8.36022927e-01,  5.08768480e-01,  1.48163110e+00,\n",
       "         1.20295554e+00,  8.87805482e-01,  1.32347247e+00],\n",
       "       [ 1.67750438e-01,  1.36513837e+00, -3.43031564e-01,\n",
       "        -6.49427312e-01, -5.12713492e-01, -3.89022181e-01,\n",
       "         7.14753410e-01, -6.89738850e-01, -5.02163813e-01,\n",
       "         3.69809969e-01, -6.38298405e-01, -1.10302175e-01],\n",
       "       [-8.67024738e-01, -1.36017423e+00, -6.25800826e-01,\n",
       "         7.47186656e-01, -1.50448747e-01, -3.89022181e-01,\n",
       "         6.36284900e-01, -1.87423277e-01, -1.81457938e-01,\n",
       "         2.26985015e-01, -1.91257872e-01,  5.83771956e-02],\n",
       "       [-8.67024738e-01,  1.36513837e+00, -6.25800826e-01,\n",
       "         7.47186656e-01,  5.74080743e-01,  5.40756974e-02,\n",
       "        -1.11855634e+00, -1.02461590e+00, -8.66394057e-01,\n",
       "        -8.44202146e-01, -1.00055539e+00, -8.83415957e-01],\n",
       "       [-9.81999758e-01, -1.36017423e+00,  7.88045485e-01,\n",
       "        -1.18147073e+00,  5.74080743e-01, -2.90555986e-01,\n",
       "         5.64949890e-01, -3.81299463e-01, -3.96789026e-01,\n",
       "         1.79376696e-01, -4.07070543e-01, -9.62455607e-02],\n",
       "       [-1.21194980e+00,  4.56700835e-01,  5.05276223e-01,\n",
       "         2.15143239e-01, -8.74978237e-01, -3.89022181e-01,\n",
       "         6.50551902e-01, -2.75548816e-01, -3.78462976e-01,\n",
       "         1.31768378e-01, -3.45409780e-01, -8.21889465e-02],\n",
       "       [-7.52049718e-01, -1.36017423e+00, -2.03964714e+00,\n",
       "         1.74476806e+00, -8.74978237e-01, -2.90555986e-01,\n",
       "        -1.76770493e+00, -5.57550541e-01, -1.70004157e-01,\n",
       "        -1.01083126e+00, -4.22485734e-01, -8.97472571e-01],\n",
       "       [-1.77174620e-01,  4.56700835e-01,  2.22506960e-01,\n",
       "         2.81648666e-01, -5.12713492e-01, -3.89022181e-01,\n",
       "         6.64818904e-01,  6.58581897e-01,  1.11052859e+00,\n",
       "         2.50789174e-01,  8.64682696e-01,  5.50358693e-01],\n",
       "       [ 1.43247565e+00, -1.36017423e+00, -6.02623018e-02,\n",
       "        -4.49911031e-01, -5.12713492e-01, -3.89022181e-01,\n",
       "         8.14622424e-01,  9.93458945e-01,  9.68501701e-01,\n",
       "         7.03068197e-01,  1.05737258e+00,  1.01422696e+00],\n",
       "       [ 1.31750063e+00,  4.56700835e-01,  1.07081475e+00,\n",
       "        -5.16416458e-01, -5.12713492e-01, -3.89022181e-01,\n",
       "         9.50158943e-01,  4.55373072e+00,  3.00269325e+00,\n",
       "         1.27436802e+00,  4.00938161e+00,  2.72913390e+00],\n",
       "       [-6.37074699e-01,  1.36513837e+00,  2.22506960e-01,\n",
       "         7.47186656e-01, -1.23724298e+00,  4.97173576e-01,\n",
       "        -1.26835986e+00, -1.05986611e+00, -8.54940276e-01,\n",
       "        -9.39418782e-01, -1.02367817e+00, -8.97472571e-01],\n",
       "       [-9.81999758e-01,  1.36513837e+00, -3.43031564e-01,\n",
       "         1.56269583e-02, -1.50448747e-01, -3.89022181e-01,\n",
       "         4.00879367e-01, -7.42614173e-01, -6.53353726e-01,\n",
       "        -2.01489850e-01, -7.38497145e-01, -4.89830759e-01],\n",
       "       [ 1.43247565e+00, -4.51736696e-01,  2.22506960e-01,\n",
       "         9.46702937e-01, -1.50448747e-01, -3.89022181e-01,\n",
       "         6.29151399e-01,  8.96520852e-01,  1.63969328e+00,\n",
       "         2.26985015e-01,  1.24235487e+00,  6.48754993e-01],\n",
       "       [ 2.82725458e-01, -4.51736696e-01,  2.22506960e-01,\n",
       "         4.14659520e-01, -1.50448747e-01, -3.89022181e-01,\n",
       "         6.00617395e-01,  8.52458082e-01,  1.23212644e-01,\n",
       "         1.31768378e-01,  6.10332048e-01,  3.39509480e-01],\n",
       "       [ 1.77740071e+00,  4.56700835e-01, -6.25800826e-01,\n",
       "        -1.83889323e-01,  1.29861023e+00, -3.89022181e-01,\n",
       "         8.14622424e-01,  1.19614768e+00,  2.79423443e+00,\n",
       "         1.22675970e+00,  1.79730174e+00,  1.78734074e+00],\n",
       "       [ 1.66242569e+00,  4.56700835e-01,  5.05276223e-01,\n",
       "        -8.48943593e-01, -1.50448747e-01, -3.89022181e-01,\n",
       "         8.21755925e-01,  9.31771068e-01,  2.58577562e+00,\n",
       "         8.22088993e-01,  1.51982830e+00,  1.30941586e+00],\n",
       "       [ 1.67750438e-01, -4.51736696e-01, -9.08570089e-01,\n",
       "         5.47670374e-01, -5.12713492e-01, -3.89022181e-01,\n",
       "         3.65211862e-01, -4.25362233e-01, -2.77669701e-01,\n",
       "        -3.44314804e-01, -3.76240162e-01, -4.33604302e-01],\n",
       "       [ 1.43247565e+00,  1.36513837e+00, -1.47410861e+00,\n",
       "         1.67826263e+00,  4.92125768e+00, -1.42856693e-01,\n",
       "        -2.26705000e+00, -9.45302913e-01, -8.77847839e-01,\n",
       "        -1.01083126e+00, -9.69725007e-01, -9.11529185e-01],\n",
       "       [-9.81999758e-01, -4.51736696e-01,  1.63635327e+00,\n",
       "        -1.24797616e+00, -8.74978237e-01, -1.42856693e-01,\n",
       "         5.22148884e-01, -1.08110292e-01, -2.47889869e-01,\n",
       "        -1.30077372e-01, -1.75842682e-01, -2.08698474e-01],\n",
       "       [-1.09697478e+00,  4.56700835e-01, -6.02623018e-02,\n",
       "         8.80197510e-01, -5.12713492e-01, -3.89022181e-01,\n",
       "         6.22017898e-01, -1.08110292e-01, -1.63131888e-01,\n",
       "         1.31768378e-01, -1.37304705e-01,  1.62073530e-02],\n",
       "       [ 1.20252562e+00,  4.56700835e-01,  2.22506960e-01,\n",
       "        -1.64700872e+00,  2.11815998e-01, -3.89022181e-01,\n",
       "         1.03576095e+00,  4.14835324e+00,  2.77132687e+00,\n",
       "         2.01229695e+00,  3.70107780e+00,  3.31951169e+00],\n",
       "       [-5.22099679e-01,  4.56700835e-01,  2.20189180e+00,\n",
       "        -2.04604128e+00, -1.50448747e-01, -3.89022181e-01,\n",
       "         1.17843097e+00,  7.29082328e-01,  1.80256230e-03,\n",
       "         2.84544252e+00,  4.94718117e-01,  2.09658626e+00],\n",
       "       [ 1.67750438e-01,  4.56700835e-01,  1.35358401e+00,\n",
       "        -6.49427312e-01,  9.36345488e-01, -3.89022181e-01,\n",
       "         8.28889426e-01,  1.56266325e-01,  1.24797396e+00,\n",
       "         1.20295554e+00,  5.33256094e-01,  1.11262326e+00],\n",
       "       [-1.21194980e+00,  1.36513837e+00, -9.08570089e-01,\n",
       "         8.80197510e-01,  2.11815998e-01, -3.89022181e-01,\n",
       "         2.22541842e-01, -9.54115466e-01, -5.09036082e-01,\n",
       "        -4.39531441e-01, -8.38695885e-01, -7.00679972e-01],\n",
       "       [-1.77174620e-01, -1.36017423e+00, -6.25800826e-01,\n",
       "         1.07971379e+00,  1.66087498e+00, -1.42856693e-01,\n",
       "        -1.33256137e+00, -8.48364820e-01, -8.80138595e-01,\n",
       "        -8.68006305e-01, -8.92649053e-01, -8.83415957e-01],\n",
       "       [-1.09697478e+00,  1.36513837e+00, -9.08570089e-01,\n",
       "         8.13692083e-01,  1.29861023e+00, -3.39789084e-01,\n",
       "        -1.34133207e-01, -9.36490359e-01, -3.21194069e-01,\n",
       "        -6.06160555e-01, -8.00157908e-01, -8.13132886e-01],\n",
       "       [-6.37074699e-01, -1.36017423e+00, -1.19133935e+00,\n",
       "         1.14621922e+00, -1.23724298e+00, -3.89022181e-01,\n",
       "        -3.19604233e-01, -4.16549679e-01,  1.80256230e-03,\n",
       "        -7.96593828e-01, -2.60626231e-01, -8.13132886e-01],\n",
       "       [ 3.97700478e-01, -1.36017423e+00, -3.43031564e-01,\n",
       "        -4.49911031e-01,  2.11815998e-01, -3.39789084e-01,\n",
       "         1.58340333e-01, -8.57177374e-01, -6.92296582e-01,\n",
       "        -5.10943918e-01, -8.23280694e-01, -7.42849814e-01],\n",
       "       [ 5.12675497e-01,  4.56700835e-01,  1.07081475e+00,\n",
       "         1.27923007e+00, -1.50448747e-01, -3.89022181e-01,\n",
       "         4.29413371e-01,  1.77777624e+00,  1.39229161e+00,\n",
       "        -2.01489850e-01,  1.70481059e+00,  3.25452866e-01],\n",
       "       [ 2.82725458e-01,  1.36513837e+00,  1.07081475e+00,\n",
       "        -1.91303043e+00, -8.74978237e-01, -3.39789084e-01,\n",
       "         9.21624939e-01,  1.01989661e+00,  7.23390782e-01,\n",
       "         1.03632642e+00,  9.41758650e-01,  1.22507618e+00],\n",
       "       [ 3.97700478e-01, -1.36017423e+00, -6.02623018e-02,\n",
       "         3.48154093e-01, -5.12713492e-01,  1.82646721e+00,\n",
       "        -9.33085318e-01, -8.65989927e-01, -8.70975570e-01,\n",
       "        -8.68006305e-01, -9.08064243e-01, -8.83415957e-01]])"
      ]
     },
     "execution_count": 11,
     "metadata": {},
     "output_type": "execute_result"
    }
   ],
   "source": [
    "X_test"
   ]
  },
  {
   "cell_type": "code",
   "execution_count": null,
   "metadata": {},
   "outputs": [],
   "source": []
  },
  {
   "cell_type": "code",
   "execution_count": 19,
   "metadata": {},
   "outputs": [],
   "source": [
    "from sklearn.model_selection import GridSearchCV, cross_val_score\n",
    "from sklearn.metrics import accuracy_score, confusion_matrix\n",
    "from sklearn.tree import DecisionTreeClassifier\n",
    "from sklearn.svm import SVC\n",
    "from sklearn.ensemble import RandomForestClassifier, ExtraTreesClassifier"
   ]
  },
  {
   "cell_type": "code",
   "execution_count": 15,
   "metadata": {},
   "outputs": [
    {
     "name": "stdout",
     "output_type": "stream",
     "text": [
      "Fitting 4 folds for each of 30 candidates, totalling 120 fits\n"
     ]
    }
   ],
   "source": [
    "model = DecisionTreeClassifier()\n",
    "parameters = dict(\n",
    "    criterion=['gini', 'entropy'],\n",
    "    max_depth=[5, 8, 10, 15, 3],\n",
    "    min_samples_split=[2, 3, 4],\n",
    ")\n",
    "\n",
    "clf = GridSearchCV(\n",
    "    estimator=model,\n",
    "    param_grid=parameters,\n",
    "    cv=4,\n",
    "    verbose=1,\n",
    "    scoring='accuracy'\n",
    ")\n",
    "clf.fit(X_train, y_train)\n",
    "y_pred = clf.predict(X_test)"
   ]
  },
  {
   "cell_type": "code",
   "execution_count": 16,
   "metadata": {},
   "outputs": [
    {
     "data": {
      "text/plain": [
       "0.9781400966183575"
      ]
     },
     "execution_count": 16,
     "metadata": {},
     "output_type": "execute_result"
    }
   ],
   "source": [
    "clf.best_score_"
   ]
  },
  {
   "cell_type": "code",
   "execution_count": 18,
   "metadata": {},
   "outputs": [
    {
     "data": {
      "text/plain": [
       "DecisionTreeClassifier(max_depth=15, min_samples_split=3)"
      ]
     },
     "execution_count": 18,
     "metadata": {},
     "output_type": "execute_result"
    }
   ],
   "source": [
    "clf.best_estimator_"
   ]
  },
  {
   "cell_type": "code",
   "execution_count": 20,
   "metadata": {},
   "outputs": [
    {
     "name": "stdout",
     "output_type": "stream",
     "text": [
      "Fitting 4 folds for each of 120 candidates, totalling 480 fits\n"
     ]
    }
   ],
   "source": [
    "model = ExtraTreesClassifier()\n",
    "parameters = dict(\n",
    "    n_estimators=[100, 150, 180, 200],\n",
    "    criterion=['gini', 'entropy'],\n",
    "    max_depth=[5, 8, 10, 15, 3],\n",
    "    min_samples_split=[2, 3, 4],\n",
    ")\n",
    "\n",
    "clf = GridSearchCV(\n",
    "    estimator=model,\n",
    "    param_grid=parameters,\n",
    "    cv=4,\n",
    "    verbose=1\n",
    ")\n",
    "clf.fit(X_train, y_train)\n",
    "y_pred = clf.predict(X_test)"
   ]
  },
  {
   "cell_type": "code",
   "execution_count": 23,
   "metadata": {},
   "outputs": [
    {
     "data": {
      "text/plain": [
       "{'criterion': 'gini',\n",
       " 'max_depth': 8,\n",
       " 'min_samples_split': 2,\n",
       " 'n_estimators': 100}"
      ]
     },
     "execution_count": 23,
     "metadata": {},
     "output_type": "execute_result"
    }
   ],
   "source": [
    "clf.best_params_"
   ]
  },
  {
   "cell_type": "code",
   "execution_count": 22,
   "metadata": {},
   "outputs": [
    {
     "data": {
      "text/plain": [
       "0.9670289855072465"
      ]
     },
     "execution_count": 22,
     "metadata": {},
     "output_type": "execute_result"
    }
   ],
   "source": [
    "clf.best_score_"
   ]
  },
  {
   "cell_type": "code",
   "execution_count": 24,
   "metadata": {},
   "outputs": [
    {
     "name": "stdout",
     "output_type": "stream",
     "text": [
      "Fitting 4 folds for each of 120 candidates, totalling 480 fits\n"
     ]
    }
   ],
   "source": [
    "model = RandomForestClassifier()\n",
    "parameters = dict(\n",
    "    n_estimators=[100, 150, 180, 200],\n",
    "    criterion=['gini', 'entropy'],\n",
    "    max_depth=[5, 8, 10, 15, 3],\n",
    "    min_samples_split=[2, 3, 4],\n",
    ")\n",
    "\n",
    "clf = GridSearchCV(\n",
    "    estimator=model,\n",
    "    param_grid=parameters,\n",
    "    cv=4,\n",
    "    verbose=1,\n",
    "    scoring='accuracy'\n",
    ")\n",
    "clf.fit(X_train, y_train)\n",
    "y_pred = clf.predict(X_test)"
   ]
  },
  {
   "cell_type": "code",
   "execution_count": 25,
   "metadata": {},
   "outputs": [
    {
     "data": {
      "text/plain": [
       "{'criterion': 'gini',\n",
       " 'max_depth': 8,\n",
       " 'min_samples_split': 3,\n",
       " 'n_estimators': 200}"
      ]
     },
     "execution_count": 25,
     "metadata": {},
     "output_type": "execute_result"
    }
   ],
   "source": [
    "clf.best_params_"
   ]
  },
  {
   "cell_type": "code",
   "execution_count": 26,
   "metadata": {},
   "outputs": [
    {
     "data": {
      "text/plain": [
       "0.9834541062801933"
      ]
     },
     "execution_count": 26,
     "metadata": {},
     "output_type": "execute_result"
    }
   ],
   "source": [
    "clf.best_score_"
   ]
  },
  {
   "cell_type": "code",
   "execution_count": 27,
   "metadata": {},
   "outputs": [
    {
     "name": "stdout",
     "output_type": "stream",
     "text": [
      "Fitting 4 folds for each of 72 candidates, totalling 288 fits\n"
     ]
    }
   ],
   "source": [
    "model = SVC()\n",
    "parameters = dict(\n",
    "    degree=[2, 3, 4, 5],\n",
    "    kernel=['linear', 'poly', 'rbf'],\n",
    "    gamma=['scale', 'auto'],\n",
    "    C=[1, 2, 3]\n",
    ")\n",
    "clf = GridSearchCV(\n",
    "    estimator=model,\n",
    "    param_grid=parameters,\n",
    "    scoring='accuracy',\n",
    "    cv=4,\n",
    "    verbose=1\n",
    ")\n",
    "clf.fit(X_train, y_train)\n",
    "y_pred = clf.predict(X_test)"
   ]
  },
  {
   "cell_type": "code",
   "execution_count": 28,
   "metadata": {},
   "outputs": [
    {
     "data": {
      "text/plain": [
       "{'C': 2, 'degree': 2, 'gamma': 'scale', 'kernel': 'linear'}"
      ]
     },
     "execution_count": 28,
     "metadata": {},
     "output_type": "execute_result"
    }
   ],
   "source": [
    "clf.best_params_"
   ]
  },
  {
   "cell_type": "code",
   "execution_count": 29,
   "metadata": {},
   "outputs": [
    {
     "data": {
      "text/plain": [
       "0.9782608695652174"
      ]
     },
     "execution_count": 29,
     "metadata": {},
     "output_type": "execute_result"
    }
   ],
   "source": [
    "clf.best_score_"
   ]
  },
  {
   "attachments": {},
   "cell_type": "markdown",
   "metadata": {},
   "source": [
    "So out of all the algorithms Random Forest perform very well with a accuracy of 98.34%"
   ]
  }
 ],
 "metadata": {
  "kernelspec": {
   "display_name": "Python 3",
   "language": "python",
   "name": "python3"
  },
  "language_info": {
   "codemirror_mode": {
    "name": "ipython",
    "version": 3
   },
   "file_extension": ".py",
   "mimetype": "text/x-python",
   "name": "python",
   "nbconvert_exporter": "python",
   "pygments_lexer": "ipython3",
   "version": "3.10.2"
  },
  "orig_nbformat": 4,
  "vscode": {
   "interpreter": {
    "hash": "2469a70536e4d2335a2ea8907942d0699c37342a371ac185bdb5b0aa6f073890"
   }
  }
 },
 "nbformat": 4,
 "nbformat_minor": 2
}
